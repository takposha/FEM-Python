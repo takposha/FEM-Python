{
 "cells": [
  {
   "cell_type": "code",
   "execution_count": 6,
   "metadata": {},
   "outputs": [
    {
     "data": {
      "text/latex": [
       "$$\\left[\\begin{matrix}\\frac{1}{2} & - \\frac{1}{2} & 0\\\\- \\frac{1}{2} & 1 & - \\frac{1}{2}\\\\0 & - \\frac{1}{2} & \\frac{1}{2}\\end{matrix}\\right]$$"
      ],
      "text/plain": [
       "⎡1/2   -1/2   0  ⎤\n",
       "⎢                ⎥\n",
       "⎢-1/2   1    -1/2⎥\n",
       "⎢                ⎥\n",
       "⎣ 0    -1/2  1/2 ⎦"
      ]
     },
     "metadata": {},
     "output_type": "display_data"
    },
    {
     "data": {
      "text/latex": [
       "$$\\left[\\begin{matrix}\\frac{1}{2} & - \\frac{1}{2} & 0\\\\- \\frac{1}{2} & 1 & - \\frac{1}{2}\\\\0 & - \\frac{1}{2} & \\frac{1}{2}\\end{matrix}\\right]$$"
      ],
      "text/plain": [
       "⎡1/2   -1/2   0  ⎤\n",
       "⎢                ⎥\n",
       "⎢-1/2   1    -1/2⎥\n",
       "⎢                ⎥\n",
       "⎣ 0    -1/2  1/2 ⎦"
      ]
     },
     "metadata": {},
     "output_type": "display_data"
    },
    {
     "data": {
      "text/latex": [
       "$$\\left[\\begin{matrix}\\frac{1}{2} & 0 & - \\frac{1}{2}\\\\0 & \\frac{1}{2} & - \\frac{1}{2}\\\\- \\frac{1}{2} & - \\frac{1}{2} & 1\\end{matrix}\\right]$$"
      ],
      "text/plain": [
       "⎡1/2    0    -1/2⎤\n",
       "⎢                ⎥\n",
       "⎢ 0    1/2   -1/2⎥\n",
       "⎢                ⎥\n",
       "⎣-1/2  -1/2   1  ⎦"
      ]
     },
     "metadata": {},
     "output_type": "display_data"
    },
    {
     "data": {
      "text/latex": [
       "$$\\left[\\begin{matrix}\\frac{1}{2} & - \\frac{1}{2} & 0\\\\- \\frac{1}{2} & 1 & - \\frac{1}{2}\\\\0 & - \\frac{1}{2} & \\frac{1}{2}\\end{matrix}\\right]$$"
      ],
      "text/plain": [
       "⎡1/2   -1/2   0  ⎤\n",
       "⎢                ⎥\n",
       "⎢-1/2   1    -1/2⎥\n",
       "⎢                ⎥\n",
       "⎣ 0    -1/2  1/2 ⎦"
      ]
     },
     "metadata": {},
     "output_type": "display_data"
    }
   ],
   "source": [
    "import sympy as sp\n",
    "import numpy as np\n",
    "from sympy import Matrix, zeros, init_printing, symbols, diff\n",
    "from IPython.display import Image\n",
    "#display(Image(\"q4.png\"))\n",
    "init_printing(pretty_print = True)\n",
    "X,Y = symbols('X Y')\n",
    "\n",
    "#Before I start off, this code will not make sense if you don't understand how classes and function definitions work.\n",
    "#These comments are there for my sanity because I cannot finish this code in just one sitting.\n",
    "\n",
    "#Current workflow:- Nodes -> Elements -> Stiffness Matrix -> ???? -> Solution.\n",
    "\n",
    "class node: #Create a simple node, helps to keep track of what they are.\n",
    "    def __init__(self, xCoord, yCoord):\n",
    "        self.x = xCoord\n",
    "        self.y = yCoord\n",
    "        self.pos = [xCoord, yCoord]  \n",
    "\n",
    "class element: #Create elements using nodes, triangles and quadilaterals both.\n",
    "    def __init__(self, nodes = []):\n",
    "        self.i = nodes[0]\n",
    "        self.j = nodes[1]\n",
    "        self.k = nodes[2]\n",
    "        try:\n",
    "            self.m = nodes[3]\n",
    "        except:\n",
    "            self.m = None\n",
    "        self.stiffness = None\n",
    "        self.nodeList = [nodes[0],nodes[1],nodes[2],nodes[3]]\n",
    "        \n",
    "    @property\n",
    "    def isTri(self): #Might help in futre debugging or execution? Idk.\n",
    "        return True if self.m == None else False\n",
    "\n",
    "def setUpNodes(): #Sets up the node system. Can I make this visual? How spiteful do I feel?\n",
    "    #n = input('How many nodes would you like to use?')\n",
    "    x = [0,1,2,1,2,2]\n",
    "    y = [0,0,0,1,1,2]\n",
    "    n = 6\n",
    "    nodes = []\n",
    "    for i in range(len(x)): nodes.append(node(x[i],y[i]))\n",
    "    return nodes\n",
    "    \n",
    "def setUpElements(nodes): #Sets up elements using nodes. Can I make this clockwise on its own? Most probably not.\n",
    "    #e = input('How many elements would you like to use?')\n",
    "    '''\n",
    "    e = 3\n",
    "    elements = []\n",
    "    connections = [[nodes[0],nodes[1],nodes[3]],\n",
    "           [nodes[1],nodes[2],nodes[4],nodes[3]],\n",
    "           [nodes[3],nodes[4],nodes[5]]]\n",
    "    '''\n",
    "    e = 4\n",
    "    elements = []\n",
    "    connections = [[nodes[0],nodes[1],nodes[3]],\n",
    "           [nodes[1],nodes[2],nodes[4]],\n",
    "           [nodes[1],nodes[4],nodes[3]],\n",
    "           [nodes[3],nodes[4],nodes[5]]]\n",
    "    for i in range(e): elements.append(element(connections[i]))\n",
    "    return elements\n",
    "    \n",
    "def tri(elem): #Spits out shape function for any triangular element. I think, have to test this.\n",
    "    a,b,c=  [zeros(3,1) for i in range(3)]\n",
    "    x = [elem.i.x,elem.j.x,elem.k.x] #I'm a disgrace but changing this would mean changing a lot of things.\n",
    "    y = [elem.i.y,elem.j.y,elem.k.y] #Just accept this.\n",
    "    A = Matrix([[1,1,1], x, y]).det() / 2\n",
    "    for i in range(3):              \n",
    "        b[i] = (y[(i+1)%3] - y[(i+2)%3])                    #So that I don't forget, the modulus function \n",
    "        c[i] = (x[(i+2)%3] - x[(i+1)%3])                    #here will allow cycling through i,j & k.\n",
    "    k = Matrix(3,3, lambda i,j: b[i]*b[j] + c[i]*c[j]) / (4*A)\n",
    "    return k\n",
    "\n",
    "'''\n",
    "def triShape(elem):              #This is a function that should help in future generalizations\n",
    "    a,b,c,N=  [zeros(3,1) for i in range(4)]\n",
    "    x = [elem.i.x,elem.j.x,elem.k.x] #I'm a disgrace but changing this would mean changing a lot of things.\n",
    "    y = [elem.i.y,elem.j.y,elem.k.y] #Just accept this.\n",
    "    A = Matrix([[1,1,1], x, y]).det() / 2\n",
    "    for i in range(3):              #This loop automatically makes all the values, which can scale over to different codes.\n",
    "        a[i] = (x[(i+1)%3]*y[(i+2)%3] - x[(i+2)%3]*y[(i+1)%3])\n",
    "        b[i] = (y[(i+1)%3] - y[(i+2)%3])                    #So that I don't forget, the modulus function \n",
    "        c[i] = (x[(i+2)%3] - x[(i+1)%3])                    #here will allow cycling through i,j & k.\n",
    "        N[i] = ((a[i] + b[i]*X + c[i]*Y) / (2*A))\n",
    "    return N\n",
    "\n",
    "def quad(elem): #Spits out shape function for any triangular element. I think, have to test this.\n",
    "    a,b,c=  [zeros(4,1) for i in range(3)]\n",
    "    x = [elem.i.x,elem.j.x,elem.k.x,elem.m.x] #I'm a disgrace but changing this would mean changing a lot of things.\n",
    "    y = [elem.i.y,elem.j.y,elem.k.y,elem.m.y] #Just accept this.\n",
    "    A = 0.5 * ((x[0]*y[1] +x[1]*y[2] +x[2]*y[3] +x[3]*y[0]) - (x[1]*y[0] +x[2]*y[1] +x[3]*y[2] +x[0]*y[3]))\n",
    "    for i in range(4):              \n",
    "        b[i] = (y[(i+1)%4] - y[(i+2)%4])                    #So that I don't forget, the modulus function \n",
    "        c[i] = (x[(i+2)%4] - x[(i+1)%4])                    #here will allow cycling through i,j & k.\n",
    "    display(b,c)\n",
    "    k = Matrix(4,4, lambda i,j: b[i]*b[j] + c[i]*c[j]) #/ (4*A)\n",
    "    return k\n",
    "'''\n",
    "\n",
    "def globalMatrix(elements, nodes):\n",
    "    n = len(nodes)\n",
    "    Kg = Matrix(n,n, lambda i,j:0)\n",
    "    for i,j in range(n):\n",
    "        if node in elements.nodeList[i]:\n",
    "            Kg[i][j] += elements.stiffness[][]\n",
    "    \n",
    "nodes = setUpNodes()\n",
    "elements = setUpElements(nodes)\n",
    "for i in range(len(elements)): elements[i].stiffness = tri(elements[i])\n",
    "#elements[1].stiffness = quad(elements[1])\n",
    "display(elements[0].stiffness,elements[1].stiffness,elements[2].stiffness,elements[3].stiffness)"
   ]
  },
  {
   "cell_type": "code",
   "execution_count": null,
   "metadata": {},
   "outputs": [],
   "source": []
  }
 ],
 "metadata": {
  "kernelspec": {
   "display_name": "Python 3",
   "language": "python",
   "name": "python3"
  },
  "language_info": {
   "codemirror_mode": {
    "name": "ipython",
    "version": 3
   },
   "file_extension": ".py",
   "mimetype": "text/x-python",
   "name": "python",
   "nbconvert_exporter": "python",
   "pygments_lexer": "ipython3",
   "version": "3.6.5"
  }
 },
 "nbformat": 4,
 "nbformat_minor": 2
}
