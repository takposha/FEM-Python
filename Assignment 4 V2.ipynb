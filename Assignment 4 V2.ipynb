{
 "cells": [
  {
   "cell_type": "code",
   "execution_count": 1,
   "metadata": {},
   "outputs": [
    {
     "name": "stdout",
     "output_type": "stream",
     "text": [
      "Element:  1\n"
     ]
    },
    {
     "data": {
      "text/plain": [
       "'Shape Matrix:'"
      ]
     },
     "metadata": {},
     "output_type": "display_data"
    },
    {
     "data": {
      "text/latex": [
       "$$\\left[\\begin{matrix}1 & - X & 0\\\\0 & X & - Y\\\\0 & 0 & Y\\end{matrix}\\right]$$"
      ],
      "text/plain": [
       "⎡1  -X  0 ⎤\n",
       "⎢         ⎥\n",
       "⎢0  X   -Y⎥\n",
       "⎢         ⎥\n",
       "⎣0  0   Y ⎦"
      ]
     },
     "metadata": {},
     "output_type": "display_data"
    },
    {
     "data": {
      "text/plain": [
       "'Stiffness Matrix:'"
      ]
     },
     "metadata": {},
     "output_type": "display_data"
    },
    {
     "data": {
      "text/latex": [
       "$$\\left[\\begin{matrix}\\frac{1}{2} & - \\frac{1}{2} & 0\\\\- \\frac{1}{2} & 1 & - \\frac{1}{2}\\\\0 & - \\frac{1}{2} & \\frac{1}{2}\\end{matrix}\\right]$$"
      ],
      "text/plain": [
       "⎡1/2   -1/2   0  ⎤\n",
       "⎢                ⎥\n",
       "⎢-1/2   1    -1/2⎥\n",
       "⎢                ⎥\n",
       "⎣ 0    -1/2  1/2 ⎦"
      ]
     },
     "metadata": {},
     "output_type": "display_data"
    },
    {
     "name": "stdout",
     "output_type": "stream",
     "text": [
      "Element:  2\n"
     ]
    },
    {
     "data": {
      "text/plain": [
       "'Shape Matrix:'"
      ]
     },
     "metadata": {},
     "output_type": "display_data"
    },
    {
     "data": {
      "text/latex": [
       "$$\\left[\\begin{matrix}1 & - 1.0 X & - 1.0 Y & 1.0 X Y\\\\0 & 1.0 X & 0 & - 1.0 X Y\\\\0 & 0 & 0 & 1.0 X Y\\\\0 & 0 & 1.0 Y & - 1.0 X Y\\end{matrix}\\right]$$"
      ],
      "text/plain": [
       "⎡1  -1.0⋅X  -1.0⋅Y  1.0⋅X⋅Y ⎤\n",
       "⎢                           ⎥\n",
       "⎢0  1.0⋅X     0     -1.0⋅X⋅Y⎥\n",
       "⎢                           ⎥\n",
       "⎢0    0       0     1.0⋅X⋅Y ⎥\n",
       "⎢                           ⎥\n",
       "⎣0    0     1.0⋅Y   -1.0⋅X⋅Y⎦"
      ]
     },
     "metadata": {},
     "output_type": "display_data"
    },
    {
     "data": {
      "text/plain": [
       "'Stiffness Matrix:'"
      ]
     },
     "metadata": {},
     "output_type": "display_data"
    },
    {
     "data": {
      "text/latex": [
       "$$\\left[\\begin{matrix}0.833333333333333 & 0.333333333333333 & -0.5 & 0\\\\0.333333333333333 & 0.333333333333333 & -0.166666666666667 & -0.166666666666667\\\\-0.5 & -0.166666666666667 & 0.333333333333333 & 0\\\\0 & -0.166666666666667 & 0 & 0.166666666666667\\end{matrix}\\right]$$"
      ],
      "text/plain": [
       "⎡0.833333333333333  0.333333333333333          -0.5                 0         \n",
       "⎢                                                                             \n",
       "⎢0.333333333333333  0.333333333333333   -0.166666666666667  -0.166666666666667\n",
       "⎢                                                                             \n",
       "⎢      -0.5         -0.166666666666667  0.333333333333333           0         \n",
       "⎢                                                                             \n",
       "⎣        0          -0.166666666666667          0           0.166666666666667 \n",
       "\n",
       "⎤\n",
       "⎥\n",
       "⎥\n",
       "⎥\n",
       "⎥\n",
       "⎥\n",
       "⎦"
      ]
     },
     "metadata": {},
     "output_type": "display_data"
    },
    {
     "name": "stdout",
     "output_type": "stream",
     "text": [
      "Element:  3\n"
     ]
    },
    {
     "data": {
      "text/plain": [
       "'Shape Matrix:'"
      ]
     },
     "metadata": {},
     "output_type": "display_data"
    },
    {
     "data": {
      "text/latex": [
       "$$\\left[\\begin{matrix}2 & - X & 0\\\\0 & X & - Y\\\\-1 & 0 & Y\\end{matrix}\\right]$$"
      ],
      "text/plain": [
       "⎡2   -X  0 ⎤\n",
       "⎢          ⎥\n",
       "⎢0   X   -Y⎥\n",
       "⎢          ⎥\n",
       "⎣-1  0   Y ⎦"
      ]
     },
     "metadata": {},
     "output_type": "display_data"
    },
    {
     "data": {
      "text/plain": [
       "'Stiffness Matrix:'"
      ]
     },
     "metadata": {},
     "output_type": "display_data"
    },
    {
     "data": {
      "text/latex": [
       "$$\\left[\\begin{matrix}\\frac{1}{2} & - \\frac{1}{2} & 0\\\\- \\frac{1}{2} & 1 & - \\frac{1}{2}\\\\0 & - \\frac{1}{2} & \\frac{1}{2}\\end{matrix}\\right]$$"
      ],
      "text/plain": [
       "⎡1/2   -1/2   0  ⎤\n",
       "⎢                ⎥\n",
       "⎢-1/2   1    -1/2⎥\n",
       "⎢                ⎥\n",
       "⎣ 0    -1/2  1/2 ⎦"
      ]
     },
     "metadata": {},
     "output_type": "display_data"
    },
    {
     "data": {
      "text/plain": [
       "'Global Stiffness Matrix:'"
      ]
     },
     "metadata": {},
     "output_type": "display_data"
    },
    {
     "data": {
      "text/latex": [
       "$$\\left[\\begin{matrix}\\frac{1}{2} & - \\frac{1}{2} & 0 & 0 & 0 & 0\\\\- \\frac{1}{2} & 1.83333333333333 & 0.333333333333333 & - \\frac{1}{2} & -0.5 & 0\\\\0 & 0.333333333333333 & 0.333333333333333 & -0.166666666666667 & -0.166666666666667 & 0\\\\0 & - \\frac{1}{2} & -0.166666666666667 & 1.16666666666667 & - \\frac{1}{2} & 0\\\\0 & -0.5 & -0.166666666666667 & - \\frac{1}{2} & 1.33333333333333 & - \\frac{1}{2}\\\\0 & 0 & 0 & 0 & - \\frac{1}{2} & \\frac{1}{2}\\end{matrix}\\right]$$"
      ],
      "text/plain": [
       "⎡1/2         -1/2                 0                   0                   0   \n",
       "⎢                                                                             \n",
       "⎢-1/2  1.83333333333333   0.333333333333333          -1/2                -0.5 \n",
       "⎢                                                                             \n",
       "⎢ 0    0.333333333333333  0.333333333333333   -0.166666666666667  -0.166666666\n",
       "⎢                                                                             \n",
       "⎢ 0          -1/2         -0.166666666666667   1.16666666666667          -1/2 \n",
       "⎢                                                                             \n",
       "⎢ 0          -0.5         -0.166666666666667         -1/2          1.333333333\n",
       "⎢                                                                             \n",
       "⎣ 0            0                  0                   0                  -1/2 \n",
       "\n",
       "         0  ⎤\n",
       "            ⎥\n",
       "         0  ⎥\n",
       "            ⎥\n",
       "666667   0  ⎥\n",
       "            ⎥\n",
       "         0  ⎥\n",
       "            ⎥\n",
       "33333   -1/2⎥\n",
       "            ⎥\n",
       "        1/2 ⎦"
      ]
     },
     "metadata": {},
     "output_type": "display_data"
    }
   ],
   "source": [
    "import sympy as sp\n",
    "import numpy as np\n",
    "from sympy import Matrix, zeros, init_printing, symbols, diff\n",
    "from IPython.display import Image\n",
    "#display(Image(\"q4.png\"))\n",
    "init_printing(pretty_print = True)\n",
    "X,Y = symbols('X Y')\n",
    "\n",
    "#Before I start off, this code will not make sense if you don't understand how classes and function definitions work.\n",
    "#These comments are there for my sanity because I cannot finish this code in just one sitting.\n",
    "\n",
    "#Current workflow:- Nodes -> Elements -> Stiffness Matrix -> ???? -> Solution.\n",
    "\n",
    "class node: #Create a simple node, helps to keep track of what they are.\n",
    "    def __init__(self, xCoord, yCoord):\n",
    "        self.x = xCoord\n",
    "        self.y = yCoord\n",
    "        self.pos = [xCoord, yCoord]  \n",
    "\n",
    "#The V2 architecture scheme uses arrays instead of letters schemes, which will make this more unreadable.\n",
    "class element: #Create elements using nodes, triangles and quadilaterals both.\n",
    "    def __init__(self, nodes = []):\n",
    "        self.nodeList = [nodes[0], nodes[1], nodes[2]]\n",
    "        try:\n",
    "            self.nodeList.append(nodes[3])\n",
    "        except:\n",
    "            None\n",
    "        self.stiffness = None\n",
    "        self.shape = None\n",
    "        \n",
    "    @property\n",
    "    def isTri(self): #Might help in futre debugging or execution? Idk.\n",
    "        try: \n",
    "            if self.nodeList[3] == None: return False \n",
    "        except: return True\n",
    "\n",
    "def setUpNodes(): #Sets up the node system. Can I make this visual? How spiteful do I feel?\n",
    "    #n = input('How many nodes would you like to use?')\n",
    "    x = [0,1,2,1,2,2]\n",
    "    y = [0,0,0,1,1,2]\n",
    "    nodes = []\n",
    "    for i in range(len(x)): nodes.append(node(x[i],y[i]))\n",
    "    return nodes\n",
    "    \n",
    "def setUpElements(nodes): #Sets up elements using nodes. Can I make this clockwise on its own? Most probably not.\n",
    "    #e = input('How many elements would you like to use?')\n",
    "    #'''\n",
    "    e = 3\n",
    "    elements = []\n",
    "    connections = [[nodes[0],nodes[1],nodes[3]],\n",
    "           [nodes[1],nodes[2],nodes[4],nodes[3]],\n",
    "           [nodes[3],nodes[4],nodes[5]]]\n",
    "    '''\n",
    "    e = 4\n",
    "    elements = []\n",
    "    connections = [[nodes[0],nodes[1],nodes[3]],\n",
    "           [nodes[1],nodes[2],nodes[4]],\n",
    "           [nodes[1],nodes[4],nodes[3]],\n",
    "           [nodes[3],nodes[4],nodes[5]]]\n",
    "    '''\n",
    "    for i in range(e): elements.append(element(connections[i]))\n",
    "    return elements\n",
    "    \n",
    "def triStiff(elem): #Spits out stiffness matrix for any triangular element. This seems to work.\n",
    "    a,b,c=  [zeros(3,1) for i in range(3)]\n",
    "    x,y = [],[]\n",
    "    for node in elem.nodeList:\n",
    "        x.append(node.x)\n",
    "        y.append(node.y)\n",
    "    A = Matrix([[1,1,1], x, y]).det() / 2\n",
    "    for i in range(3):              \n",
    "        b[i] = (y[(i+1)%3] - y[(i+2)%3])                    \n",
    "        c[i] = (x[(i+2)%3] - x[(i+1)%3])                    \n",
    "    k = Matrix(3,3, lambda i,j: b[i]*b[j] + c[i]*c[j]) / (4*A)\n",
    "    return k\n",
    "\n",
    "def triShape(elem): #Spits out shape matrix for any triangular element. This seems to work.\n",
    "    a,b,c=  [zeros(3,1) for i in range(3)]\n",
    "    N = zeros(3,3)\n",
    "    x,y = [],[]\n",
    "    for node in elem.nodeList:\n",
    "        x.append(node.x)\n",
    "        y.append(node.y)\n",
    "    A = Matrix([[1,1,1], x, y]).det() / 2\n",
    "    for i in range(3):              #This loop automatically makes all the values, which can scale over to different codes.\n",
    "        a[i] = (x[(i+1)%3]*y[(i+2)%3] - x[(i+2)%3]*y[(i+1)%3])\n",
    "        b[i] = (y[(i+1)%3] - y[(i+2)%3])                   \n",
    "        c[i] = (x[(i+2)%3] - x[(i+1)%3])                    \n",
    "        N[i] = [a[i], b[i]*X, c[i]*Y]\n",
    "    return N.T\n",
    "\n",
    "def rectStiff(elem): #Spits out stiffness matrix for any rectangular element. This does not work.\n",
    "    a,b,c=  [zeros(4,1) for i in range(3)]\n",
    "    x,y = [],[]\n",
    "    for node in elem.nodeList:\n",
    "        x.append(node.x)\n",
    "        y.append(node.y)\n",
    "    A = 0.5 * ((x[0]*y[1] +x[1]*y[2] +x[2]*y[3] +x[3]*y[0]) - (x[1]*y[0] +x[2]*y[1] +x[3]*y[2] +x[0]*y[3]))\n",
    "    for i in range(4):\n",
    "        a[i] = (x[(i+1)%4]*y[(i+2)%4] - x[(i+2)%4]*y[(i+1)%4])\n",
    "        b[i] = (y[(i+1)%4] - y[(i+2)%4])                    \n",
    "        c[i] = (x[(i+2)%4] - x[(i+1)%4])                    \n",
    "    k = Matrix(4,4, lambda i,j: a[i]*a[j] + b[i]*b[j] + c[i]*c[j]) / (6*A)\n",
    "    return k\n",
    "\n",
    "def rectShape(elem): #Spits out shape matrix for any rectangular element. This seems to work.\n",
    "    a,b,c=  [zeros(4,1) for i in range(3)]\n",
    "    N = zeros(4,4)\n",
    "    x,y = [],[]\n",
    "    for node in elem.nodeList:\n",
    "        x.append(node.x)\n",
    "        y.append(node.y)\n",
    "    a = (x[1] - x[0]) / 2\n",
    "    b = (y[2] - y[0]) / 2\n",
    "    A = 4*a*b\n",
    "    V = Matrix([1,X,Y,X*Y])\n",
    "    C = Matrix([[1,0,0,0],\n",
    "              [-1/(2*a),1/(2*a),0,0],\n",
    "              [-1/(2*b),0,0,1/(2*b)],\n",
    "              [1/(4*a*b),-1/(4*a*b),1/(4*a*b),-1/(4*a*b)]])\n",
    "    N =  Matrix(4,4, lambda i,j: C[i,j]*V[i])\n",
    "    return N.T\n",
    "\n",
    "def globalMatrix(elements, nodes): #Returns the global stiffness matrix using the elements and nodes.\n",
    "    n = len(nodes)\n",
    "    Kg = zeros(n,n)\n",
    "    for element in elements: #This was some smart mapping here. But I don't really remember what.\n",
    "        nodePos = []\n",
    "        for node in element.nodeList: nodePos.append(nodes.index(node))\n",
    "        for i in nodePos:\n",
    "            for j in nodePos:\n",
    "                Kg[i,j] += element.stiffness[nodePos.index(i),nodePos.index(j)]\n",
    "    return Kg\n",
    "                \n",
    "        \n",
    "nodes = setUpNodes()\n",
    "elements = setUpElements(nodes)\n",
    "for element in elements: \n",
    "    if element.isTri == True: \n",
    "        element.stiffness = triStiff(element)\n",
    "        element.shape = triShape(element)\n",
    "    else: \n",
    "        element.stiffness = rectStiff(element)\n",
    "        element.shape = rectShape(element)\n",
    "    print('Element: ', elements.index(element)+1)\n",
    "    display('Shape Matrix:',element.shape, 'Stiffness Matrix:',element.stiffness)\n",
    "    \n",
    "Kg = globalMatrix(elements, nodes)\n",
    "display('Global Stiffness Matrix:',Kg)"
   ]
  },
  {
   "cell_type": "code",
   "execution_count": null,
   "metadata": {},
   "outputs": [],
   "source": []
  }
 ],
 "metadata": {
  "kernelspec": {
   "display_name": "Python 3",
   "language": "python",
   "name": "python3"
  },
  "language_info": {
   "codemirror_mode": {
    "name": "ipython",
    "version": 3
   },
   "file_extension": ".py",
   "mimetype": "text/x-python",
   "name": "python",
   "nbconvert_exporter": "python",
   "pygments_lexer": "ipython3",
   "version": "3.6.5"
  }
 },
 "nbformat": 4,
 "nbformat_minor": 2
}
