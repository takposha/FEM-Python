{
 "cells": [
  {
   "cell_type": "code",
   "execution_count": 36,
   "metadata": {},
   "outputs": [
    {
     "name": "stdout",
     "output_type": "stream",
     "text": [
      "Input number of nodes for beam:9\n"
     ]
    },
    {
     "data": {
      "image/png": "[encoded data removed]",
      "text/latex": [
       "$$\\left [ 0.0, \\quad 0.125, \\quad 0.25, \\quad 0.375, \\quad 0.5, \\quad 0.625, \\quad 0.75, \\quad 0.875, \\quad 1.0\\right ]$$"
      ],
      "text/plain": [
       "[0.0, 0.125, 0.25, 0.375, 0.5, 0.625, 0.75, 0.875, 1.0]"
      ]
     },
     "metadata": {},
     "output_type": "display_data"
    },
    {
     "data": {
      "text/latex": [
       "$$\\left[\\begin{matrix}1058816.0 & 66176.0 & -1058816.0 & 66176.0\\\\66176.0 & 5514.66666666667 & -66176.0 & 2757.33333333333\\\\-1058816.0 & -66176.0 & 1058816.0 & -66176.0\\\\66176.0 & 2757.33333333333 & -66176.0 & 5514.66666666667\\end{matrix}\\right]$$"
      ],
      "text/plain": [
       "⎡1058816.0       66176.0       -1058816.0      66176.0     ⎤\n",
       "⎢                                                          ⎥\n",
       "⎢ 66176.0    5514.66666666667   -66176.0   2757.33333333333⎥\n",
       "⎢                                                          ⎥\n",
       "⎢-1058816.0      -66176.0      1058816.0       -66176.0    ⎥\n",
       "⎢                                                          ⎥\n",
       "⎣ 66176.0    2757.33333333333   -66176.0   5514.66666666667⎦"
      ]
     },
     "metadata": {},
     "output_type": "display_data"
    },
    {
     "data": {
      "text/latex": [
       "$$\\left[\\begin{matrix}1058816.0 & 66176.0 & -1058816.0 & 66176.0\\\\66176.0 & 5514.66666666667 & -66176.0 & 2757.33333333333\\\\-1058816.0 & -66176.0 & 1058816.0 & -66176.0\\\\66176.0 & 2757.33333333333 & -66176.0 & 5514.66666666667\\end{matrix}\\right]$$"
      ],
      "text/plain": [
       "⎡1058816.0       66176.0       -1058816.0      66176.0     ⎤\n",
       "⎢                                                          ⎥\n",
       "⎢ 66176.0    5514.66666666667   -66176.0   2757.33333333333⎥\n",
       "⎢                                                          ⎥\n",
       "⎢-1058816.0      -66176.0      1058816.0       -66176.0    ⎥\n",
       "⎢                                                          ⎥\n",
       "⎣ 66176.0    2757.33333333333   -66176.0   5514.66666666667⎦"
      ]
     },
     "metadata": {},
     "output_type": "display_data"
    },
    {
     "data": {
      "text/latex": [
       "$$\\left[\\begin{matrix}1058816.0 & 66176.0 & -1058816.0 & 66176.0\\\\66176.0 & 5514.66666666667 & -66176.0 & 2757.33333333333\\\\-1058816.0 & -66176.0 & 1058816.0 & -66176.0\\\\66176.0 & 2757.33333333333 & -66176.0 & 5514.66666666667\\end{matrix}\\right]$$"
      ],
      "text/plain": [
       "⎡1058816.0       66176.0       -1058816.0      66176.0     ⎤\n",
       "⎢                                                          ⎥\n",
       "⎢ 66176.0    5514.66666666667   -66176.0   2757.33333333333⎥\n",
       "⎢                                                          ⎥\n",
       "⎢-1058816.0      -66176.0      1058816.0       -66176.0    ⎥\n",
       "⎢                                                          ⎥\n",
       "⎣ 66176.0    2757.33333333333   -66176.0   5514.66666666667⎦"
      ]
     },
     "metadata": {},
     "output_type": "display_data"
    },
    {
     "data": {
      "text/latex": [
       "$$\\left[\\begin{matrix}1058816.0 & 66176.0 & -1058816.0 & 66176.0\\\\66176.0 & 5514.66666666667 & -66176.0 & 2757.33333333333\\\\-1058816.0 & -66176.0 & 1058816.0 & -66176.0\\\\66176.0 & 2757.33333333333 & -66176.0 & 5514.66666666667\\end{matrix}\\right]$$"
      ],
      "text/plain": [
       "⎡1058816.0       66176.0       -1058816.0      66176.0     ⎤\n",
       "⎢                                                          ⎥\n",
       "⎢ 66176.0    5514.66666666667   -66176.0   2757.33333333333⎥\n",
       "⎢                                                          ⎥\n",
       "⎢-1058816.0      -66176.0      1058816.0       -66176.0    ⎥\n",
       "⎢                                                          ⎥\n",
       "⎣ 66176.0    2757.33333333333   -66176.0   5514.66666666667⎦"
      ]
     },
     "metadata": {},
     "output_type": "display_data"
    },
    {
     "data": {
      "text/latex": [
       "$$\\left[\\begin{matrix}1058816.0 & 66176.0 & -1058816.0 & 66176.0\\\\66176.0 & 5514.66666666667 & -66176.0 & 2757.33333333333\\\\-1058816.0 & -66176.0 & 1058816.0 & -66176.0\\\\66176.0 & 2757.33333333333 & -66176.0 & 5514.66666666667\\end{matrix}\\right]$$"
      ],
      "text/plain": [
       "⎡1058816.0       66176.0       -1058816.0      66176.0     ⎤\n",
       "⎢                                                          ⎥\n",
       "⎢ 66176.0    5514.66666666667   -66176.0   2757.33333333333⎥\n",
       "⎢                                                          ⎥\n",
       "⎢-1058816.0      -66176.0      1058816.0       -66176.0    ⎥\n",
       "⎢                                                          ⎥\n",
       "⎣ 66176.0    2757.33333333333   -66176.0   5514.66666666667⎦"
      ]
     },
     "metadata": {},
     "output_type": "display_data"
    },
    {
     "data": {
      "text/latex": [
       "$$\\left[\\begin{matrix}1058816.0 & 66176.0 & -1058816.0 & 66176.0\\\\66176.0 & 5514.66666666667 & -66176.0 & 2757.33333333333\\\\-1058816.0 & -66176.0 & 1058816.0 & -66176.0\\\\66176.0 & 2757.33333333333 & -66176.0 & 5514.66666666667\\end{matrix}\\right]$$"
      ],
      "text/plain": [
       "⎡1058816.0       66176.0       -1058816.0      66176.0     ⎤\n",
       "⎢                                                          ⎥\n",
       "⎢ 66176.0    5514.66666666667   -66176.0   2757.33333333333⎥\n",
       "⎢                                                          ⎥\n",
       "⎢-1058816.0      -66176.0      1058816.0       -66176.0    ⎥\n",
       "⎢                                                          ⎥\n",
       "⎣ 66176.0    2757.33333333333   -66176.0   5514.66666666667⎦"
      ]
     },
     "metadata": {},
     "output_type": "display_data"
    },
    {
     "data": {
      "text/latex": [
       "$$\\left[\\begin{matrix}1058816.0 & 66176.0 & -1058816.0 & 66176.0\\\\66176.0 & 5514.66666666667 & -66176.0 & 2757.33333333333\\\\-1058816.0 & -66176.0 & 1058816.0 & -66176.0\\\\66176.0 & 2757.33333333333 & -66176.0 & 5514.66666666667\\end{matrix}\\right]$$"
      ],
      "text/plain": [
       "⎡1058816.0       66176.0       -1058816.0      66176.0     ⎤\n",
       "⎢                                                          ⎥\n",
       "⎢ 66176.0    5514.66666666667   -66176.0   2757.33333333333⎥\n",
       "⎢                                                          ⎥\n",
       "⎢-1058816.0      -66176.0      1058816.0       -66176.0    ⎥\n",
       "⎢                                                          ⎥\n",
       "⎣ 66176.0    2757.33333333333   -66176.0   5514.66666666667⎦"
      ]
     },
     "metadata": {},
     "output_type": "display_data"
    },
    {
     "data": {
      "text/latex": [
       "$$\\left[\\begin{matrix}1058816.0 & 66176.0 & -1058816.0 & 66176.0\\\\66176.0 & 5514.66666666667 & -66176.0 & 2757.33333333333\\\\-1058816.0 & -66176.0 & 1058816.0 & -66176.0\\\\66176.0 & 2757.33333333333 & -66176.0 & 5514.66666666667\\end{matrix}\\right]$$"
      ],
      "text/plain": [
       "⎡1058816.0       66176.0       -1058816.0      66176.0     ⎤\n",
       "⎢                                                          ⎥\n",
       "⎢ 66176.0    5514.66666666667   -66176.0   2757.33333333333⎥\n",
       "⎢                                                          ⎥\n",
       "⎢-1058816.0      -66176.0      1058816.0       -66176.0    ⎥\n",
       "⎢                                                          ⎥\n",
       "⎣ 66176.0    2757.33333333333   -66176.0   5514.66666666667⎦"
      ]
     },
     "metadata": {},
     "output_type": "display_data"
    },
    {
     "data": {
      "text/latex": [
       "$$\\left[\\begin{matrix}0.0363535714285714 & 0.000640848214285714 & 0.0125839285714286 & -0.000378683035714286\\\\0.000640848214285714 & 1.45647321428571 \\cdot 10^{-5} & 0.000378683035714286 & -1.09235491071429 \\cdot 10^{-5}\\\\0.0125839285714286 & 0.000378683035714286 & 0.0363535714285714 & -0.000640848214285714\\\\-0.000378683035714286 & -1.09235491071429 \\cdot 10^{-5} & -0.000640848214285714 & 1.45647321428571 \\cdot 10^{-5}\\end{matrix}\\right]$$"
      ],
      "text/plain": [
       "⎡ 0.0363535714285714    0.000640848214285714   0.0125839285714286    -0.000378\n",
       "⎢                                                                             \n",
       "⎢0.000640848214285714   1.45647321428571e-5   0.000378683035714286   -1.092354\n",
       "⎢                                                                             \n",
       "⎢ 0.0125839285714286    0.000378683035714286   0.0363535714285714    -0.000640\n",
       "⎢                                                                             \n",
       "⎣-0.000378683035714286  -1.09235491071429e-5  -0.000640848214285714   1.456473\n",
       "\n",
       "683035714286⎤\n",
       "            ⎥\n",
       "91071429e-5 ⎥\n",
       "            ⎥\n",
       "848214285714⎥\n",
       "            ⎥\n",
       "21428571e-5 ⎦"
      ]
     },
     "metadata": {},
     "output_type": "display_data"
    },
    {
     "data": {
      "text/latex": [
       "$$\\left[\\begin{matrix}0.0363535714285714 & 0.000640848214285714 & 0.0125839285714286 & -0.000378683035714286\\\\0.000640848214285714 & 1.45647321428571 \\cdot 10^{-5} & 0.000378683035714286 & -1.09235491071429 \\cdot 10^{-5}\\\\0.0125839285714286 & 0.000378683035714286 & 0.0363535714285714 & -0.000640848214285714\\\\-0.000378683035714286 & -1.09235491071429 \\cdot 10^{-5} & -0.000640848214285714 & 1.45647321428571 \\cdot 10^{-5}\\end{matrix}\\right]$$"
      ],
      "text/plain": [
       "⎡ 0.0363535714285714    0.000640848214285714   0.0125839285714286    -0.000378\n",
       "⎢                                                                             \n",
       "⎢0.000640848214285714   1.45647321428571e-5   0.000378683035714286   -1.092354\n",
       "⎢                                                                             \n",
       "⎢ 0.0125839285714286    0.000378683035714286   0.0363535714285714    -0.000640\n",
       "⎢                                                                             \n",
       "⎣-0.000378683035714286  -1.09235491071429e-5  -0.000640848214285714   1.456473\n",
       "\n",
       "683035714286⎤\n",
       "            ⎥\n",
       "91071429e-5 ⎥\n",
       "            ⎥\n",
       "848214285714⎥\n",
       "            ⎥\n",
       "21428571e-5 ⎦"
      ]
     },
     "metadata": {},
     "output_type": "display_data"
    },
    {
     "data": {
      "text/latex": [
       "$$\\left[\\begin{matrix}0.0363535714285714 & 0.000640848214285714 & 0.0125839285714286 & -0.000378683035714286\\\\0.000640848214285714 & 1.45647321428571 \\cdot 10^{-5} & 0.000378683035714286 & -1.09235491071429 \\cdot 10^{-5}\\\\0.0125839285714286 & 0.000378683035714286 & 0.0363535714285714 & -0.000640848214285714\\\\-0.000378683035714286 & -1.09235491071429 \\cdot 10^{-5} & -0.000640848214285714 & 1.45647321428571 \\cdot 10^{-5}\\end{matrix}\\right]$$"
      ],
      "text/plain": [
       "⎡ 0.0363535714285714    0.000640848214285714   0.0125839285714286    -0.000378\n",
       "⎢                                                                             \n",
       "⎢0.000640848214285714   1.45647321428571e-5   0.000378683035714286   -1.092354\n",
       "⎢                                                                             \n",
       "⎢ 0.0125839285714286    0.000378683035714286   0.0363535714285714    -0.000640\n",
       "⎢                                                                             \n",
       "⎣-0.000378683035714286  -1.09235491071429e-5  -0.000640848214285714   1.456473\n",
       "\n",
       "683035714286⎤\n",
       "            ⎥\n",
       "91071429e-5 ⎥\n",
       "            ⎥\n",
       "848214285714⎥\n",
       "            ⎥\n",
       "21428571e-5 ⎦"
      ]
     },
     "metadata": {},
     "output_type": "display_data"
    },
    {
     "data": {
      "text/latex": [
       "$$\\left[\\begin{matrix}0.0363535714285714 & 0.000640848214285714 & 0.0125839285714286 & -0.000378683035714286\\\\0.000640848214285714 & 1.45647321428571 \\cdot 10^{-5} & 0.000378683035714286 & -1.09235491071429 \\cdot 10^{-5}\\\\0.0125839285714286 & 0.000378683035714286 & 0.0363535714285714 & -0.000640848214285714\\\\-0.000378683035714286 & -1.09235491071429 \\cdot 10^{-5} & -0.000640848214285714 & 1.45647321428571 \\cdot 10^{-5}\\end{matrix}\\right]$$"
      ],
      "text/plain": [
       "⎡ 0.0363535714285714    0.000640848214285714   0.0125839285714286    -0.000378\n",
       "⎢                                                                             \n",
       "⎢0.000640848214285714   1.45647321428571e-5   0.000378683035714286   -1.092354\n",
       "⎢                                                                             \n",
       "⎢ 0.0125839285714286    0.000378683035714286   0.0363535714285714    -0.000640\n",
       "⎢                                                                             \n",
       "⎣-0.000378683035714286  -1.09235491071429e-5  -0.000640848214285714   1.456473\n",
       "\n",
       "683035714286⎤\n",
       "            ⎥\n",
       "91071429e-5 ⎥\n",
       "            ⎥\n",
       "848214285714⎥\n",
       "            ⎥\n",
       "21428571e-5 ⎦"
      ]
     },
     "metadata": {},
     "output_type": "display_data"
    },
    {
     "data": {
      "text/latex": [
       "$$\\left[\\begin{matrix}0.0363535714285714 & 0.000640848214285714 & 0.0125839285714286 & -0.000378683035714286\\\\0.000640848214285714 & 1.45647321428571 \\cdot 10^{-5} & 0.000378683035714286 & -1.09235491071429 \\cdot 10^{-5}\\\\0.0125839285714286 & 0.000378683035714286 & 0.0363535714285714 & -0.000640848214285714\\\\-0.000378683035714286 & -1.09235491071429 \\cdot 10^{-5} & -0.000640848214285714 & 1.45647321428571 \\cdot 10^{-5}\\end{matrix}\\right]$$"
      ],
      "text/plain": [
       "⎡ 0.0363535714285714    0.000640848214285714   0.0125839285714286    -0.000378\n",
       "⎢                                                                             \n",
       "⎢0.000640848214285714   1.45647321428571e-5   0.000378683035714286   -1.092354\n",
       "⎢                                                                             \n",
       "⎢ 0.0125839285714286    0.000378683035714286   0.0363535714285714    -0.000640\n",
       "⎢                                                                             \n",
       "⎣-0.000378683035714286  -1.09235491071429e-5  -0.000640848214285714   1.456473\n",
       "\n",
       "683035714286⎤\n",
       "            ⎥\n",
       "91071429e-5 ⎥\n",
       "            ⎥\n",
       "848214285714⎥\n",
       "            ⎥\n",
       "21428571e-5 ⎦"
      ]
     },
     "metadata": {},
     "output_type": "display_data"
    },
    {
     "data": {
      "text/latex": [
       "$$\\left[\\begin{matrix}0.0363535714285714 & 0.000640848214285714 & 0.0125839285714286 & -0.000378683035714286\\\\0.000640848214285714 & 1.45647321428571 \\cdot 10^{-5} & 0.000378683035714286 & -1.09235491071429 \\cdot 10^{-5}\\\\0.0125839285714286 & 0.000378683035714286 & 0.0363535714285714 & -0.000640848214285714\\\\-0.000378683035714286 & -1.09235491071429 \\cdot 10^{-5} & -0.000640848214285714 & 1.45647321428571 \\cdot 10^{-5}\\end{matrix}\\right]$$"
      ],
      "text/plain": [
       "⎡ 0.0363535714285714    0.000640848214285714   0.0125839285714286    -0.000378\n",
       "⎢                                                                             \n",
       "⎢0.000640848214285714   1.45647321428571e-5   0.000378683035714286   -1.092354\n",
       "⎢                                                                             \n",
       "⎢ 0.0125839285714286    0.000378683035714286   0.0363535714285714    -0.000640\n",
       "⎢                                                                             \n",
       "⎣-0.000378683035714286  -1.09235491071429e-5  -0.000640848214285714   1.456473\n",
       "\n",
       "683035714286⎤\n",
       "            ⎥\n",
       "91071429e-5 ⎥\n",
       "            ⎥\n",
       "848214285714⎥\n",
       "            ⎥\n",
       "21428571e-5 ⎦"
      ]
     },
     "metadata": {},
     "output_type": "display_data"
    },
    {
     "data": {
      "text/latex": [
       "$$\\left[\\begin{matrix}0.0363535714285714 & 0.000640848214285714 & 0.0125839285714286 & -0.000378683035714286\\\\0.000640848214285714 & 1.45647321428571 \\cdot 10^{-5} & 0.000378683035714286 & -1.09235491071429 \\cdot 10^{-5}\\\\0.0125839285714286 & 0.000378683035714286 & 0.0363535714285714 & -0.000640848214285714\\\\-0.000378683035714286 & -1.09235491071429 \\cdot 10^{-5} & -0.000640848214285714 & 1.45647321428571 \\cdot 10^{-5}\\end{matrix}\\right]$$"
      ],
      "text/plain": [
       "⎡ 0.0363535714285714    0.000640848214285714   0.0125839285714286    -0.000378\n",
       "⎢                                                                             \n",
       "⎢0.000640848214285714   1.45647321428571e-5   0.000378683035714286   -1.092354\n",
       "⎢                                                                             \n",
       "⎢ 0.0125839285714286    0.000378683035714286   0.0363535714285714    -0.000640\n",
       "⎢                                                                             \n",
       "⎣-0.000378683035714286  -1.09235491071429e-5  -0.000640848214285714   1.456473\n",
       "\n",
       "683035714286⎤\n",
       "            ⎥\n",
       "91071429e-5 ⎥\n",
       "            ⎥\n",
       "848214285714⎥\n",
       "            ⎥\n",
       "21428571e-5 ⎦"
      ]
     },
     "metadata": {},
     "output_type": "display_data"
    },
    {
     "data": {
      "text/latex": [
       "$$\\left[\\begin{matrix}0.0363535714285714 & 0.000640848214285714 & 0.0125839285714286 & -0.000378683035714286\\\\0.000640848214285714 & 1.45647321428571 \\cdot 10^{-5} & 0.000378683035714286 & -1.09235491071429 \\cdot 10^{-5}\\\\0.0125839285714286 & 0.000378683035714286 & 0.0363535714285714 & -0.000640848214285714\\\\-0.000378683035714286 & -1.09235491071429 \\cdot 10^{-5} & -0.000640848214285714 & 1.45647321428571 \\cdot 10^{-5}\\end{matrix}\\right]$$"
      ],
      "text/plain": [
       "⎡ 0.0363535714285714    0.000640848214285714   0.0125839285714286    -0.000378\n",
       "⎢                                                                             \n",
       "⎢0.000640848214285714   1.45647321428571e-5   0.000378683035714286   -1.092354\n",
       "⎢                                                                             \n",
       "⎢ 0.0125839285714286    0.000378683035714286   0.0363535714285714    -0.000640\n",
       "⎢                                                                             \n",
       "⎣-0.000378683035714286  -1.09235491071429e-5  -0.000640848214285714   1.456473\n",
       "\n",
       "683035714286⎤\n",
       "            ⎥\n",
       "91071429e-5 ⎥\n",
       "            ⎥\n",
       "848214285714⎥\n",
       "            ⎥\n",
       "21428571e-5 ⎦"
      ]
     },
     "metadata": {},
     "output_type": "display_data"
    },
    {
     "data": {
      "text/latex": [
       "$$\\left[\\begin{matrix}1058816.0 & 66176.0 & -1058816.0 & 66176.0 & 0 & 0 & 0 & 0 & 0\\\\66176.0 & 1064330.66666667 & 0 & -1056058.66666667 & 66176.0 & 0 & 0 & 0 & 0\\\\-1058816.0 & 0 & 2123146.66666667 & -66176.0 & -1056058.66666667 & 66176.0 & 0 & 0 & 0\\\\66176.0 & -1056058.66666667 & -66176.0 & 2128661.33333333 & -66176.0 & -1056058.66666667 & 66176.0 & 0 & 0\\\\0 & 66176.0 & -1056058.66666667 & -66176.0 & 2128661.33333333 & -66176.0 & -1056058.66666667 & 66176.0 & 0\\\\0 & 0 & 66176.0 & -1056058.66666667 & -66176.0 & 2128661.33333333 & -66176.0 & -1056058.66666667 & 66176.0\\\\0 & 0 & 0 & 66176.0 & -1056058.66666667 & -66176.0 & 1069845.33333333 & -132352.0 & 2757.33333333333\\\\0 & 0 & 0 & 0 & 66176.0 & -1056058.66666667 & -132352.0 & 1064330.66666667 & -66176.0\\\\0 & 0 & 0 & 0 & 0 & 66176.0 & 2757.33333333333 & -66176.0 & 5514.66666666667\\end{matrix}\\right]$$"
      ],
      "text/plain": [
       "⎡1058816.0        66176.0          -1058816.0           66176.0               \n",
       "⎢                                                                             \n",
       "⎢ 66176.0    1064330.66666667           0          -1056058.66666667       661\n",
       "⎢                                                                             \n",
       "⎢-1058816.0          0          2123146.66666667       -66176.0       -1056058\n",
       "⎢                                                                             \n",
       "⎢ 66176.0    -1056058.66666667      -66176.0       2128661.33333333       -661\n",
       "⎢                                                                             \n",
       "⎢    0            66176.0       -1056058.66666667      -66176.0       2128661.\n",
       "⎢                                                                             \n",
       "⎢    0               0               66176.0       -1056058.66666667      -661\n",
       "⎢                                                                             \n",
       "⎢    0               0                  0               66176.0       -1056058\n",
       "⎢                                                                             \n",
       "⎢    0               0                  0                  0               661\n",
       "⎢                                                                             \n",
       "⎣    0               0                  0                  0                  \n",
       "\n",
       "0                  0                  0                  0                 0  \n",
       "                                                                              \n",
       "76.0               0                  0                  0                 0  \n",
       "                                                                              \n",
       ".66666667       66176.0               0                  0                 0  \n",
       "                                                                              \n",
       "76.0       -1056058.66666667       66176.0               0                 0  \n",
       "                                                                              \n",
       "33333333       -66176.0       -1056058.66666667       66176.0              0  \n",
       "                                                                              \n",
       "76.0       2128661.33333333       -66176.0       -1056058.66666667      66176.\n",
       "                                                                              \n",
       ".66666667      -66176.0       1069845.33333333       -132352.0      2757.33333\n",
       "                                                                              \n",
       "76.0       -1056058.66666667      -132352.0      1064330.66666667       -66176\n",
       "                                                                              \n",
       "0               66176.0       2757.33333333333       -66176.0       5514.66666\n",
       "\n",
       "      ⎤\n",
       "      ⎥\n",
       "      ⎥\n",
       "      ⎥\n",
       "      ⎥\n",
       "      ⎥\n",
       "      ⎥\n",
       "      ⎥\n",
       "      ⎥\n",
       "      ⎥\n",
       "0     ⎥\n",
       "      ⎥\n",
       "333333⎥\n",
       "      ⎥\n",
       ".0    ⎥\n",
       "      ⎥\n",
       "666667⎦"
      ]
     },
     "metadata": {},
     "output_type": "display_data"
    }
   ],
   "source": [
    "import sympy as sp\n",
    "import numpy as np\n",
    "from sympy import Matrix, zeros, init_printing, symbols, diff\n",
    "from IPython.display import Image\n",
    "#display(Image(\"q5.png\"))\n",
    "init_printing(pretty_print = True)\n",
    "X,Y = symbols('X Y')\n",
    "\n",
    "E = 206800*10**6     # Young's modulus:N/m^2\n",
    "Wb = 1/100           # beam width:m\n",
    "Tb = 1/100           # beam thickness:m\n",
    "Lb = 1               # beam length:m\n",
    "pb = 7830            # beam density (per unit volume):kg/m^3\n",
    "I = Wb*Tb**3/12      # moment of inertia:m^4\n",
    "A = Wb*Tb\n",
    "\n",
    "def K_elemu(pre, post, Lb, E, I):\n",
    "    l = post - pre\n",
    "    lb = l / Lb\n",
    "    k = Matrix([[12, 6*lb, -12, 6*lb],[6*lb, 4*lb**2, -6*lb, 2*lb**2 ],\n",
    "                [-12, -6*lb, 12, -6*lb],[6*lb, 2*lb**2, -6*lb, 4*lb**2]])\n",
    "    k = k / lb**3 * E * I / Lb**3;\n",
    "    return k\n",
    "\n",
    "def M_elemu(pre,post,Lb, pb, A):\n",
    "    l = post - pre\n",
    "    lb = l / Lb\n",
    "    m = Matrix([[156, 22*lb, 54, -13*lb],[22*lb, 4*lb**2, 13*lb, -3*lb**2],\n",
    "                [54, 13*lb, 156, -22*lb],[-13*lb, -3*lb**2, -22*lb, 4*lb**2]])\n",
    "    m = m * lb / 420 * pb * A * Lb\n",
    "    return m\n",
    "\n",
    "bnode = int(input('Input number of nodes for beam:'))\n",
    "belem = bnode - 1   #Nodes - 1 = Elements\n",
    "elen = Lb / belem\n",
    "\n",
    "node = []\n",
    "for n in range(bnode):\n",
    "    node.append(Lb/belem*(n))\n",
    "display(node)\n",
    "\n",
    "K = Matrix(bnode, bnode, lambda i,j: 0)\n",
    "M = Matrix(bnode, bnode, lambda i,j: 0)\n",
    "\n",
    "#for i in range(bnode-1): display(K_elemu(node[i],node[i+1],Lb,E,I))\n",
    "#for i in range(bnode-1): display(M_elemu(node[i],node[i+1],Lb,E,I))\n",
    "\n",
    "for pos in range(bnode-3):              #This loop builds the beam stiffness matrix for any number of nodes in the beam.\n",
    "        K[pos:pos+4, pos:pos+4] += K_elemu(node[pos],node[pos+1],Lb,E,I)\n",
    "        M[pos:pos+4, pos:pos+4] += M_elemu(node[pos],node[pos+1],Lb,pb,A)\n",
    "display(K)        \n",
    "\n",
    "https://www.mathworks.com/matlabcentral/answers/9519-draw-the-mode-shapes-and-get-the-natural-frequencies-of-the-cantilever-beam-with-a-force-in-free-e\n"
   ]
  },
  {
   "cell_type": "code",
   "execution_count": null,
   "metadata": {},
   "outputs": [],
   "source": []
  }
 ],
 "metadata": {
  "kernelspec": {
   "display_name": "Python 3",
   "language": "python",
   "name": "python3"
  },
  "language_info": {
   "codemirror_mode": {
    "name": "ipython",
    "version": 3
   },
   "file_extension": ".py",
   "mimetype": "text/x-python",
   "name": "python",
   "nbconvert_exporter": "python",
   "pygments_lexer": "ipython3",
   "version": "3.6.5"
  }
 },
 "nbformat": 4,
 "nbformat_minor": 2
}
